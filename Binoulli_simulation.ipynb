{
 "cells": [
  {
   "cell_type": "code",
   "execution_count": 13,
   "id": "3cb75601-a8dd-4e63-8746-fd633580346e",
   "metadata": {},
   "outputs": [
    {
     "name": "stdout",
     "output_type": "stream",
     "text": [
      "10.116\n",
      "9.939\n",
      "10.037\n",
      "10.185\n",
      "10.019\n",
      "9.865\n",
      "10.074\n",
      "9.93\n",
      "9.97\n",
      "9.93\n",
      "In average round 10 packets fail in the waste case senarial\n"
     ]
    }
   ],
   "source": [
    "# Network Packet simulation over 100 trials in 1000 case.\n",
    "\n",
    "\n",
    "import numpy as np\n",
    "\n",
    "num_trials = 100;\n",
    "prob_of_failure = 0.1\n",
    "fails_count = []\n",
    "\n",
    "for i in range(10):\n",
    "    for i in range(1000):\n",
    "        results = np.random.binomial(1, 1 - prob_of_failure, num_trials)\n",
    "        fails_count.append(np.sum(results == 0))\n",
    "    #Getting the average failed packets.\n",
    "    print(np.sum(fails_count)/1000)\n",
    "    fails_count = []\n",
    "\n",
    "print(\"In average round 10 packets fail in the waste case senarial\")"
   ]
  }
 ],
 "metadata": {
  "kernelspec": {
   "display_name": "Python 3 (ipykernel)",
   "language": "python",
   "name": "python3"
  },
  "language_info": {
   "codemirror_mode": {
    "name": "ipython",
    "version": 3
   },
   "file_extension": ".py",
   "mimetype": "text/x-python",
   "name": "python",
   "nbconvert_exporter": "python",
   "pygments_lexer": "ipython3",
   "version": "3.11.2"
  }
 },
 "nbformat": 4,
 "nbformat_minor": 5
}
