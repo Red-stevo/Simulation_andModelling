{
 "cells": [
  {
   "cell_type": "code",
   "execution_count": 14,
   "id": "3cb75601-a8dd-4e63-8746-fd633580346e",
   "metadata": {},
   "outputs": [
    {
     "name": "stdout",
     "output_type": "stream",
     "text": [
      "10.018\n",
      "9.993\n",
      "10.045\n",
      "10.082\n",
      "10.01\n",
      "9.929\n",
      "9.885\n",
      "9.938\n",
      "10.051\n",
      "9.913\n",
      "In average round 10 packets fail in the waste case scenario\n"
     ]
    }
   ],
   "source": [
    "# Network Packet simulation over 100 trials in 1000 case.\n",
    "\n",
    "\n",
    "import numpy as np\n",
    "\n",
    "num_trials = 100;\n",
    "prob_of_failure = 0.1\n",
    "fails_count = []\n",
    "\n",
    "for i in range(10):\n",
    "    for i in range(1000):\n",
    "        results = np.random.binomial(1, 1 - prob_of_failure, num_trials)\n",
    "        fails_count.append(np.sum(results == 0))\n",
    "    #Getting the average failed packets.\n",
    "    print(np.sum(fails_count)/1000)\n",
    "    fails_count = []\n",
    "\n",
    "print(\"In average round 10 packets fail in the waste case scenario\")"
   ]
  },
  {
   "cell_type": "code",
   "execution_count": null,
   "id": "350a805b-95b8-4adc-a5cb-bb906e7e0750",
   "metadata": {},
   "outputs": [],
   "source": []
  }
 ],
 "metadata": {
  "kernelspec": {
   "display_name": "Python 3 (ipykernel)",
   "language": "python",
   "name": "python3"
  },
  "language_info": {
   "codemirror_mode": {
    "name": "ipython",
    "version": 3
   },
   "file_extension": ".py",
   "mimetype": "text/x-python",
   "name": "python",
   "nbconvert_exporter": "python",
   "pygments_lexer": "ipython3",
   "version": "3.11.2"
  }
 },
 "nbformat": 4,
 "nbformat_minor": 5
}
