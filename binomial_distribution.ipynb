{
 "cells": [
  {
   "cell_type": "code",
   "execution_count": 1,
   "id": "4da444a8-fd32-484f-b15d-b655357be264",
   "metadata": {},
   "outputs": [
    {
     "name": "stdout",
     "output_type": "stream",
     "text": [
      "0.21749308087117294\n"
     ]
    }
   ],
   "source": [
    "from scipy.stats import binom\n",
    "\n",
    "num_of_trials = 500\n",
    "prob_of_success = 0.02\n",
    "test_num = 7\n",
    "\n",
    "solution = binom.cdf(test_num, num_of_trials, prob_of_success)\n",
    "\n",
    "print(solution)\n"
   ]
  },
  {
   "cell_type": "code",
   "execution_count": 6,
   "id": "faef0248-5a5a-4482-aab5-dcadab600381",
   "metadata": {},
   "outputs": [
    {
     "name": "stdout",
     "output_type": "stream",
     "text": [
      "0.01596116279000825\n"
     ]
    }
   ],
   "source": [
    "\n",
    "trials = 20\n",
    "prob = 0.6\n",
    "test = 16 #x >= 16\n",
    "\n",
    "\n",
    "solution = binom.sf(test, trials, prob)\n",
    "\n",
    "print(solution)"
   ]
  },
  {
   "cell_type": "code",
   "execution_count": null,
   "id": "c0f8bb55-eba0-4889-ac36-eb0db0890c10",
   "metadata": {},
   "outputs": [],
   "source": []
  }
 ],
 "metadata": {
  "kernelspec": {
   "display_name": "Python 3 (ipykernel)",
   "language": "python",
   "name": "python3"
  },
  "language_info": {
   "codemirror_mode": {
    "name": "ipython",
    "version": 3
   },
   "file_extension": ".py",
   "mimetype": "text/x-python",
   "name": "python",
   "nbconvert_exporter": "python",
   "pygments_lexer": "ipython3",
   "version": "3.11.2"
  }
 },
 "nbformat": 4,
 "nbformat_minor": 5
}
